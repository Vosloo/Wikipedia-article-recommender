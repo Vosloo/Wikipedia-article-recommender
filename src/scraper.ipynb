{
 "cells": [
  {
   "cell_type": "code",
   "execution_count": 1,
   "metadata": {},
   "outputs": [],
   "source": [
    "import pickle\n",
    "import re\n",
    "\n",
    "from IPython.display import display\n",
    "from time import perf_counter\n",
    "\n",
    "import spacy\n",
    "import nltk\n",
    "import pandas as pd\n",
    "\n",
    "from sklearn.feature_extraction.text import CountVectorizer, TfidfVectorizer\n",
    "from nltk import word_tokenize\n",
    "\n",
    "import config as cfg\n",
    "\n",
    "from purifier import Purifier\n"
   ]
  },
  {
   "cell_type": "code",
   "execution_count": 2,
   "metadata": {},
   "outputs": [
    {
     "name": "stderr",
     "output_type": "stream",
     "text": [
      "[nltk_data] Downloading package punkt to /home/marek-szyd/nltk_data...\n",
      "[nltk_data]   Package punkt is already up-to-date!\n",
      "[nltk_data] Downloading package wordnet to /home/marek-\n",
      "[nltk_data]     szyd/nltk_data...\n",
      "[nltk_data]   Package wordnet is already up-to-date!\n",
      "[nltk_data] Downloading package stopwords to /home/marek-\n",
      "[nltk_data]     szyd/nltk_data...\n",
      "[nltk_data]   Package stopwords is already up-to-date!\n"
     ]
    },
    {
     "data": {
      "text/plain": [
       "True"
      ]
     },
     "execution_count": 2,
     "metadata": {},
     "output_type": "execute_result"
    }
   ],
   "source": [
    "nltk.download('punkt')\n",
    "nltk.download('wordnet')\n",
    "nltk.download('stopwords')"
   ]
  },
  {
   "cell_type": "code",
   "execution_count": 3,
   "metadata": {},
   "outputs": [],
   "source": [
    "with open(cfg.WIKI_RESPONSES_PKL, \"rb\") as f:\n",
    "    responses = pickle.load(f)"
   ]
  },
  {
   "cell_type": "code",
   "execution_count": 4,
   "metadata": {},
   "outputs": [],
   "source": [
    "articles = pd.DataFrame(columns=[cfg.PD_URL, cfg.PD_TEXT])"
   ]
  },
  {
   "cell_type": "code",
   "execution_count": 5,
   "metadata": {},
   "outputs": [],
   "source": [
    "nlp = spacy.load(\"en_core_web_md\")\n",
    "\n",
    "stopwords = nlp.Defaults.stop_words\n",
    "stopwords.update([\"(\", \")\", \",\", \".\", \":\", \"-\"])"
   ]
  },
  {
   "cell_type": "code",
   "execution_count": 6,
   "metadata": {},
   "outputs": [],
   "source": [
    "for res in responses[:4]:\n",
    "    purifier = Purifier(res.text)\n",
    "    purified = purifier.purify_text(purifier.process_paragraphs())\n",
    "\n",
    "    tokens = [token.lower() for token in word_tokenize(purified)]\n",
    "    cleared = [word for word in tokens if word not in stopwords]\n",
    "\n",
    "    text = purifier.purify_after_lemma(\" \".join(cleared))\n",
    "\n",
    "    articles.loc[len(articles)] = [res.url, text]"
   ]
  },
  {
   "cell_type": "code",
   "execution_count": 7,
   "metadata": {},
   "outputs": [],
   "source": [
    "articles.to_parquet(str(cfg.WIKI_TEXT_PARQUET))"
   ]
  },
  {
   "cell_type": "code",
   "execution_count": 14,
   "metadata": {},
   "outputs": [
    {
     "data": {
      "text/plain": [
       "'aileen tan born 18 october 1966 singaporean actress educated defunct willow secondary school tan cast leading roles 15 years acting career played supporting roles recent years nominated multiple times best actress category annual star awards nominated best actress award 1995 1996 1997 2001 2002 2003 won award 2001 role women half playing manager advertising company use looks charms climb corporate ladder tan took break television 2005 2006 appeared singapore dramas women times measure man drama clinching runner-up position 2006 television viewership ratings tan ventured english dramas 2000 played mae media corp channel 5 longest-running drama series growing later 2009 played suzanne kong wife tycoon 40-episode drama red thread 2013 tan won best actress supporting role award 18th asian television awards ata role day rained parade consisted episodes 29 2015 announced tan play lead role jack neo film long long time ago alongside mark lee wang lei star awards 2017 tan received best supporting actress drama hero 2016 tv series announced speech time stage receive award star awards 2018 landed 4th nomination best supporting actress drama little faith tan gotten 2 10 10 popular female artistes 1994 1997 respectively tan parents hokkien descent married hong kong director gerald lee 2002 experienced ectopic pregnancy 2006 eventually led abortion star awards presented mediacorp'"
      ]
     },
     "execution_count": 14,
     "metadata": {},
     "output_type": "execute_result"
    }
   ],
   "source": [
    "pd.read_parquet(str(cfg.WIKI_TEXT_PARQUET)).loc[2, \"text\"]"
   ]
  }
 ],
 "metadata": {
  "interpreter": {
   "hash": "d05eeebef5a0220f16870b8a82ccd56ecf24c48c6e3e4ee8cb45f4e48ade74c2"
  },
  "kernelspec": {
   "display_name": "Python 3.10.2 64-bit ('ir': conda)",
   "language": "python",
   "name": "python3"
  },
  "language_info": {
   "codemirror_mode": {
    "name": "ipython",
    "version": 3
   },
   "file_extension": ".py",
   "mimetype": "text/x-python",
   "name": "python",
   "nbconvert_exporter": "python",
   "pygments_lexer": "ipython3",
   "version": "3.8.12"
  },
  "orig_nbformat": 4
 },
 "nbformat": 4,
 "nbformat_minor": 2
}
