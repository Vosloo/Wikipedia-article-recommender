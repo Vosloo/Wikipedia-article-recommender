{
 "cells": [
  {
   "cell_type": "code",
   "execution_count": null,
   "metadata": {},
   "outputs": [],
   "source": [
    "import config as cfg\n",
    "from purifier import Purifier\n",
    "\n",
    "from sklearn.feature_extraction.text import CountVectorizer, TfidfVectorizer\n",
    "\n",
    "import pickle\n",
    "import pandas as pd"
   ]
  },
  {
   "cell_type": "code",
   "execution_count": null,
   "metadata": {},
   "outputs": [],
   "source": [
    "with open(cfg.WIKI_RESPONSES_PKL, \"rb\") as f:\n",
    "    responses = pickle.load(f)"
   ]
  },
  {
   "cell_type": "code",
   "execution_count": null,
   "metadata": {},
   "outputs": [],
   "source": [
    "articles = pd.DataFrame(columns=[cfg.PD_URL, cfg.PD_TEXT])\n",
    "\n",
    "for res in responses:\n",
    "    purifier = Purifier(res.text)\n",
    "    purified = purifier.purify_text(purifier.process_paragraphs())\n",
    "    print(repr(purified), res.url)\n",
    "    break"
   ]
  }
 ],
 "metadata": {
  "interpreter": {
   "hash": "d05eeebef5a0220f16870b8a82ccd56ecf24c48c6e3e4ee8cb45f4e48ade74c2"
  },
  "kernelspec": {
   "display_name": "Python 3.10.2 64-bit ('ir': conda)",
   "language": "python",
   "name": "python3"
  },
  "language_info": {
   "codemirror_mode": {
    "name": "ipython",
    "version": 3
   },
   "file_extension": ".py",
   "mimetype": "text/x-python",
   "name": "python",
   "nbconvert_exporter": "python",
   "pygments_lexer": "ipython3",
   "version": "3.10.2"
  },
  "orig_nbformat": 4
 },
 "nbformat": 4,
 "nbformat_minor": 2
}
